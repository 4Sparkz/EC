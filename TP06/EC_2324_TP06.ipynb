{
 "cells": [
  {
   "cell_type": "markdown",
   "metadata": {},
   "source": [
    "# Engenharia do Conhecimento 2023/2024\n",
    "\n",
    "## Lab class TP06\n",
    "\n",
    "# The K-nearest Neighbour classifier and preprocessing data\n",
    "\n",
    "*A Machine Learning Tutorial by Andre Falcao (DI/FCUL 2020-2022)*\n",
    "*revised by Catia Pesquita (DI/FCUL 2022-2023) and Sofia Teixeira (DI/FCUL 2022-2023)*\n",
    "### Summary\n",
    "\n",
    "\n",
    "1. K-Nearest Neighbours\n",
    "    1. K nearest nighbours for regression\n",
    "    2. K-Nearent neighbours for classification\n",
    "    4. Improving the model with Kernels\n",
    "    \n",
    "3. Scaling Data\n",
    "\n",
    "2. Handling missing values in data\n",
    "\n",
    "\n",
    "## 1. Introduction to K-Nearest Neighbours (KNN)\n",
    "\n",
    "The idea of K nearest neighbours is very simple. It is based on the concept that similar behaviours should appear on items that are near each other. There are thus two issues to solve in KNN\n",
    "\n",
    "1. How many neighbours?\n",
    "2. What is \"near\"?\n",
    "\n",
    "For the current example we will only use the standard Euclidean distance, although it can be changed at will"
   ]
  },
  {
   "cell_type": "markdown",
   "metadata": {},
   "source": [
    "### 1.1. A KNN classifier from scratch\n",
    "\n",
    "A KNN classifier can be simply defined with a class with 3 methods\n",
    "\n",
    "* A constructor that receives the training data and the number of K neighbours\n",
    "* A decision function that for the data from the set of neighbours is able to make a decision. In this case we are going to check the dominant class\n",
    "* A prediction function that will receive a data set of new data and for each will compute the distance between each new instance and all the others in the training set and will return the results from the decision function\n",
    "\n",
    "We are going to use scipy  function `distance_matrix` that compares one data set `te` as a matrix $N_{tr}.M$ with another data set `tr`, $N_{te}.M$ to produce a new matrix $D=N_{tr}.N_{te}$ with the distances from each element `te` to each element of `tr`. This function is able to use all distances produced by the Minkwosky distance, with the default being the Euclidean"
   ]
  },
  {
   "cell_type": "code",
   "execution_count": 41,
   "metadata": {},
   "outputs": [],
   "source": [
    "import numpy as np\n",
    "import pandas as pd\n",
    "import matplotlib.pyplot as plt"
   ]
  },
  {
   "cell_type": "code",
   "execution_count": 42,
   "metadata": {},
   "outputs": [],
   "source": [
    "from scipy.spatial import distance_matrix\n",
    "\n",
    "class knn_classifier:\n",
    "    def __init__(self, X_train, y_train, K=1):\n",
    "        self.data=X_train\n",
    "        self.labels=y_train\n",
    "        self.K=K\n",
    "\n",
    "    def decide(self, results):\n",
    "        #majority decision\n",
    "        vals, cnts=np.unique(results, return_counts=True)\n",
    "        res=list(zip(cnts, vals))\n",
    "        res=sorted(res, reverse=True)\n",
    "        return res[0][1]\n",
    "\n",
    "    def predict(self, instances):\n",
    "        N,M=instances.shape\n",
    "        dst=distance_matrix(self.data, instances)\n",
    "        preds=np.zeros(N, dtype=int)\n",
    "        for i in range(N):\n",
    "            ords=np.argsort(dst[:,i])\n",
    "            res=self.labels[ords[:self.K]]\n",
    "            preds[i]=self.decide(res)\n",
    "        return preds"
   ]
  },
  {
   "cell_type": "markdown",
   "metadata": {},
   "source": [
    "### Exercise 1\n",
    "\n",
    "Run the familiar Iris dataset to identify the best possible number of Neighbours"
   ]
  },
  {
   "cell_type": "code",
   "execution_count": 43,
   "metadata": {},
   "outputs": [
    {
     "name": "stdout",
     "output_type": "stream",
     "text": [
      "melhor f1 =  1.0\n",
      "melhor quantidade de vizinhos =  15\n"
     ]
    }
   ],
   "source": [
    "from sklearn.datasets import load_iris\n",
    "from sklearn.model_selection import train_test_split\n",
    "from sklearn.metrics import confusion_matrix, f1_score, classification_report\n",
    "\n",
    "\n",
    "X,y=load_iris(return_X_y=True)\n",
    "X_train, X_test, y_train, y_test = train_test_split(X, y, test_size=0.2, random_state=123)\n",
    "\n",
    "\n",
    "########### Your Solution #############\n",
    "arr = []\n",
    "preds = []\n",
    "\n",
    "for i in range(1, 50):\n",
    "    k = knn_classifier(X_train,y_train,i)\n",
    "    pre =  k.predict(X_test)\n",
    "    sc = f1_score(y_test, pre, average='weighted')\n",
    "    arr.append(sc)\n",
    "\n",
    "m = max(arr)\n",
    "bestK = arr.index(m)\n",
    "print('melhor f1 = ',m)\n",
    "print('melhor quantidade de vizinhos = ', bestK)\n",
    "\n",
    "\n",
    "\n",
    "\n"
   ]
  },
  {
   "cell_type": "markdown",
   "metadata": {},
   "source": [
    "### 1.3. Playing with Scikit learn\n",
    "\n",
    "Scikit learn has two powerful KNN implementations for classification and regression, respectively.\n",
    "\n",
    "These implementations allow not only to select the numberr of Neighbours, but allow for different weighting, based on distance, bith for regression and classification. They also allow for using distance modification functions for more complex kernels.\n",
    "\n",
    "As KNN can be a very CPU intensive algorithm, scikit allows for using specific algorithms for searching for similar items  (ball tree and KDTree) as well as using several threads for parallel searching of neighbours"
   ]
  },
  {
   "cell_type": "markdown",
   "metadata": {},
   "source": [
    "### 1.4. Distance weighting\n",
    "\n",
    "By default KNN regression or classification consideres each neighbour found as contributing equally to the final result, disregarding any effect of the distance. Yet it may convenient to weight each distance to each of the neighbours found according to the inverse of the distance\n",
    "\n",
    "$w_i= \\dfrac{1}{d_i}$\n",
    "\n",
    "Larger distances will have a smaller impact on the inferred value, then closer instances. \n",
    "\n",
    "To visualise the effect of the weight function in regression we are going to use a very simple data problem with 1 feature. The testing set contains 100 X values ranging from 0.0 to 10.0  "
   ]
  },
  {
   "cell_type": "code",
   "execution_count": 44,
   "metadata": {},
   "outputs": [
    {
     "data": {
      "image/png": "[encoded data removed]",
      "text/plain": [
       "<Figure size 640x480 with 1 Axes>"
      ]
     },
     "metadata": {},
     "output_type": "display_data"
    }
   ],
   "source": [
    "import pickle\n",
    "X_train, y_train, X_test, y_test = pickle.load(open(\"data.pickle\", \"rb\"))\n",
    "plt.scatter(X_train[:,0], y_train)\n",
    "plt.grid()\n",
    "plt.show()"
   ]
  },
  {
   "cell_type": "markdown",
   "metadata": {},
   "source": [
    "It is possible to see that the KNN regressor without any weights works in steps, keeping the same value. As long as the neighbours do not change, the prediction will also not change"
   ]
  },
  {
   "cell_type": "code",
   "execution_count": null,
   "metadata": {},
   "outputs": [],
   "source": [
    "from sklearn.neighbors import KNeighborsRegressor, KNeighborsClassifier\n",
    "\n",
    "knn = KNeighborsRegressor(n_neighbors=3)\n",
    "knn.fit(X_train, y_train)\n",
    "preds = knn.predict(X_test)\n",
    "plt.figure(figsize=(5,5))\n",
    "plt.scatter(X_train,y_train, label=\"Training set\")\n",
    "plt.plot(X_test, preds, color=\"darkorange\", label=\"Predictions (K=3)\")\n",
    "plt.legend()\n",
    "plt.grid()\n",
    "plt.show()"
   ]
  },
  {
   "cell_type": "markdown",
   "metadata": {},
   "source": [
    "With inverse distance weighting, the impact of each nearby point can be seen a a spike."
   ]
  },
  {
   "cell_type": "code",
   "execution_count": null,
   "metadata": {},
   "outputs": [],
   "source": [
    "knn = KNeighborsRegressor(n_neighbors=3, weights=\"distance\")\n",
    "knn.fit(X_train, y_train)\n",
    "preds = knn.predict(X_test)\n",
    "plt.scatter(X_train,y_train, label=\"Training set\")\n",
    "plt.plot(X_test, preds, color=\"darkorange\", label=\"Predictions\")\n",
    "plt.legend()\n",
    "plt.show()"
   ]
  },
  {
   "cell_type": "markdown",
   "metadata": {},
   "source": [
    "### 1.5 Kernel Weighting\n",
    "\n",
    "Inverse distance Weighting can be replaced by a sigmoid function, or any other function, for that matter. Replacing the distance with a sigmoid: \n",
    "\n",
    "$w_i= e^{-\\frac{d_i^2}{kw}}$\n",
    "\n",
    "This function will require one further parameter, `kw`, a kernel weight function that can be fit for whatever purpose. On any case, this softer weighting will create a better interpolation. "
   ]
  },
  {
   "cell_type": "code",
   "execution_count": null,
   "metadata": {},
   "outputs": [],
   "source": [
    "def gaussian(dsts):\n",
    "    kernel_width = .5\n",
    "    weights = np.exp(-(dsts**2)/kernel_width)\n",
    "    return weights\n",
    "\n",
    "knn = KNeighborsRegressor(n_neighbors=3, weights=gaussian)\n",
    "knn.fit(X_train, y_train)\n",
    "preds = knn.predict(X_test)\n",
    "plt.scatter(X_train,y_train, label=\"Training set\")\n",
    "plt.plot(X_test, preds, color=\"darkorange\", label=\"Predictions\")\n",
    "plt.legend()\n",
    "plt.show()"
   ]
  },
  {
   "cell_type": "markdown",
   "metadata": {},
   "source": [
    "Let's see the impact of K vs weighting functions in a single plot combination"
   ]
  },
  {
   "cell_type": "code",
   "execution_count": null,
   "metadata": {},
   "outputs": [],
   "source": [
    "fig, axs = plt.subplots(3, 3, figsize=(12,10))\n",
    "for i, wfun in enumerate( [\"uniform\", \"distance\", gaussian]):\n",
    "    for j, k in enumerate([1,5,10]):\n",
    "        knn = KNeighborsRegressor(n_neighbors=k, weights=wfun) #weights=\"distance\")\n",
    "        knn.fit(X_train, y_train)\n",
    "        preds = knn.predict(X_test)\n",
    "        s= wfun if wfun!=gaussian else \"gaussian\"\n",
    "        axs[i,j].set_title(\"Dfun:%s  (k=%d)\" %(s, k))\n",
    "        axs[i,j].scatter(X_train,y_train)\n",
    "        axs[i,j].plot(X_test, preds, color=\"darkorange\")"
   ]
  },
  {
   "cell_type": "markdown",
   "metadata": {},
   "source": [
    "#### Exercise 2\n",
    "1. Comment and discuss the results above"
   ]
  },
  {
   "cell_type": "markdown",
   "metadata": {},
   "source": [
    "### 1.6. Fitting KNN Regression to an actual data set\n",
    "\n",
    "Let's try the KNN Regression in a data set, using K=3, doing a full regression analysis.\n",
    "\n",
    "We will use the diabetes dataset for experimenting **Please note that we will use only 3 columns of X**"
   ]
  },
  {
   "cell_type": "code",
   "execution_count": null,
   "metadata": {},
   "outputs": [],
   "source": [
    "from sklearn.datasets import load_diabetes\n",
    "X,y=load_diabetes(return_X_y=True)\n",
    "X=X[:,7:10] #<-----Just the 3 last columns\n",
    "X_train, X_test, y_train, y_test = train_test_split(X, y, test_size=0.2, random_state=123)\n",
    "X_train.shape"
   ]
  },
  {
   "cell_type": "markdown",
   "metadata": {},
   "source": [
    "This will fit a KNN with K=3 and no distance weighting"
   ]
  },
  {
   "cell_type": "code",
   "execution_count": null,
   "metadata": {},
   "outputs": [],
   "source": [
    "from sklearn.metrics import r2_score, root_mean_squared_error, max_error, mean_absolute_error\n",
    "from scipy.stats import pearsonr\n",
    "\n",
    "def present_reg_statistics(truth, preds):\n",
    "    print(\"The R2 is: \", r2_score(truth, preds))\n",
    "    print(\"The rmse is: \", root_mean_squared_error(truth, preds))\n",
    "    corr, pval = pearsonr(truth, preds)\n",
    "    print(\"The Correlation Score is is: %6.4f (p-value=%e)\\n\"%(corr,pval))\n",
    "    print(\"The Maximum Error is is: \", max_error(truth, preds))\n",
    "    print(\"The Mean Absolute Error is: \", mean_absolute_error(truth, preds))\n",
    "    plt.figure(figsize=(5,5))\n",
    "    plt.scatter(preds, y_test)\n",
    "    plt.plot((50, 350), (50, 350), c=\"r\")\n",
    "    plt.ylabel(\"predictions\")\n",
    "    plt.xlabel(\"real values\")\n",
    "    plt.grid()\n",
    "    plt.show()\n",
    "\n",
    "knn = KNeighborsRegressor(n_neighbors=3 )\n",
    "knn.fit(X_train, y_train)\n",
    "preds = knn.predict(X_test)\n",
    "\n",
    "preds=knn.predict(X_test)\n",
    "\n",
    "present_reg_statistics(y_test, preds)"
   ]
  },
  {
   "cell_type": "markdown",
   "metadata": {},
   "source": [
    "Now let's change K to investigate its impact on the RMSE"
   ]
  },
  {
   "cell_type": "code",
   "execution_count": null,
   "metadata": {},
   "outputs": [],
   "source": [
    "ks=np.arange(1,50,2)\n",
    "rmses=np.zeros(ks.shape[0])\n",
    "for i,k in enumerate(ks):\n",
    "    knn = KNeighborsRegressor(n_neighbors=k)\n",
    "    knn.fit(X_train, y_train)\n",
    "    preds = knn.predict(X_test)\n",
    "    rmses[i]=root_mean_squared_error(y_test, preds)\n",
    "\n",
    "plt.plot(ks, rmses)\n",
    "plt.ylabel(\"RMSE\")\n",
    "plt.xlabel(\"K\")\n",
    "plt.grid()\n",
    "plt.show()"
   ]
  },
  {
   "cell_type": "markdown",
   "metadata": {},
   "source": [
    "#### Exercise 3\n",
    "\n",
    "1. With the results above what do you think is the best K?\n",
    "2. How confident are you in this result? \n",
    "3. With this \"optimal K\", compute all the regression and compare them to the original estimate"
   ]
  },
  {
   "cell_type": "code",
   "execution_count": null,
   "metadata": {},
   "outputs": [],
   "source": [
    "#Your Solution\n",
    "\n"
   ]
  },
  {
   "cell_type": "markdown",
   "metadata": {},
   "source": [
    "\n",
    "What is the difference if we use distance weighting for different values of K"
   ]
  },
  {
   "cell_type": "code",
   "execution_count": null,
   "metadata": {},
   "outputs": [],
   "source": [
    "ks=np.arange(1,50,2)\n",
    "rmses_w=np.zeros(ks.shape[0])\n",
    "for i,k in enumerate(ks):\n",
    "    knn = KNeighborsRegressor(n_neighbors=k, weights=\"distance\")\n",
    "    knn.fit(X_train, y_train)\n",
    "    preds = knn.predict(X_test)\n",
    "    rmses_w[i]=root_mean_squared_error(y_test, preds)\n",
    "\n",
    "plt.plot(ks, rmses)\n",
    "plt.plot(ks, rmses_w, color=\"darkorange\")\n",
    "plt.grid()\n",
    "plt.show()"
   ]
  },
  {
   "cell_type": "markdown",
   "metadata": {},
   "source": [
    "#### Exercise 4\n",
    "\n",
    "1. Discuss the results above\n",
    "2. Run the code above, but this time run it with all the columns from X, by commenting out the line with \n",
    "`X=X[:,7:10]`\n",
    "    1. Discuss your findings\n"
   ]
  },
  {
   "cell_type": "code",
   "execution_count": null,
   "metadata": {},
   "outputs": [],
   "source": [
    "# Your Solution\n"
   ]
  },
  {
   "cell_type": "markdown",
   "metadata": {},
   "source": [
    "## 2. Data Scaling\n",
    "\n",
    "Data scaling is a procedure that is absolutely required for KNN modeling, as the distances are influenced directly by the scales of the atributes. Some of the most common scalers for Machine Learning are\n",
    "\n",
    "* [MinMax Scaler](https://scikit-learn.org/stable/modules/generated/sklearn.preprocessing.MinMaxScaler.html#sklearn.preprocessing.MinMaxScaler) - scales each feature so that each feature will totally fit with a specifed interval (generally [0, 1])\n",
    "* [Standard Scaler](https://scikit-learn.org/stable/modules/generated/sklearn.preprocessing.StandardScaler.html#sklearn.preprocessing.StandardScaler) This one transforms each column of the data set into a new feature with Mean = 0 and Variance =1\n",
    "* [Power Transformer](https://scikit-learn.org/stable/modules/generated/sklearn.preprocessing.RobustScaler.html#sklearn.preprocessing.PowerTransformer) - applies a power transformation to each value, so that the resulting feature has the best possible approach to a normal distribution \n",
    "* [Normalizer](https://scikit-learn.org/stable/modules/generated/sklearn.preprocessing.Normalizer.html#sklearn.preprocessing.Normalizer) - Does not work on columns, but on rows, certifing that the norm of each intance is a unit vector (We won't be using this one in this TP)\n",
    "\n",
    "\n",
    "To test these transformations, we will use the [Algeria Forest Fire dataset](https://archive.ics.uci.edu/ml/datasets/Algerian+Forest+Fires+Dataset++#), but only 7 columns. Some of the values are missing, but most scalers will not be affected by this (with the exception of the Normalizer, that obviously cannot be processed without first imputing the missing elements"
   ]
  },
  {
   "cell_type": "code",
   "execution_count": null,
   "metadata": {},
   "outputs": [],
   "source": [
    "alg=pd.read_csv(\"alg-ff1.txt\", sep=\"\\t\")\n",
    "X=alg.values[:,3:10]\n",
    "y=alg[\"Classes\"].values\n",
    "all_columns=alg.columns\n",
    "all_columns[np.array([0,1,2,10])]\n",
    "alg.drop(all_columns[np.array([0,1,2,10])], axis=1, inplace=True)\n",
    "pd.DataFrame(X, columns=alg.columns)"
   ]
  },
  {
   "cell_type": "code",
   "execution_count": null,
   "metadata": {},
   "outputs": [],
   "source": [
    "import seaborn as sns\n",
    "g = sns.PairGrid(alg)\n",
    "g.map_diag(sns.histplot)\n",
    "g.map_offdiag(sns.scatterplot)\n"
   ]
  },
  {
   "cell_type": "markdown",
   "metadata": {},
   "source": [
    "### 2.1. Running the MinMax Scaler"
   ]
  },
  {
   "cell_type": "code",
   "execution_count": null,
   "metadata": {},
   "outputs": [],
   "source": [
    "from sklearn.preprocessing import MinMaxScaler, StandardScaler, Normalizer, PowerTransformer\n",
    "scaler = MinMaxScaler()\n",
    "Xt=scaler.fit_transform(X)\n",
    "\n",
    "g = sns.PairGrid(pd.DataFrame(Xt, columns=alg.columns))\n",
    "g.map_diag(sns.histplot)\n",
    "g.map_offdiag(sns.scatterplot)\n",
    "\n"
   ]
  },
  {
   "cell_type": "markdown",
   "metadata": {},
   "source": [
    "### 2.2. Running the Standard Scaler"
   ]
  },
  {
   "cell_type": "code",
   "execution_count": null,
   "metadata": {},
   "outputs": [],
   "source": [
    "scaler = StandardScaler()\n",
    "Xt=scaler.fit_transform(X)\n",
    "\n",
    "g = sns.PairGrid(pd.DataFrame(Xt, columns=alg.columns))\n",
    "g.map_diag(sns.histplot)\n",
    "g.map_offdiag(sns.scatterplot)\n"
   ]
  },
  {
   "cell_type": "markdown",
   "metadata": {},
   "source": [
    "### 2.3. Running the Power Transformer"
   ]
  },
  {
   "cell_type": "code",
   "execution_count": null,
   "metadata": {},
   "outputs": [],
   "source": [
    "scaler = PowerTransformer()\n",
    "Xt=scaler.fit_transform(X)\n",
    "\n",
    "g = sns.PairGrid(pd.DataFrame(Xt, columns=alg.columns))\n",
    "g.map_diag(sns.histplot)\n",
    "g.map_offdiag(sns.scatterplot)\n"
   ]
  },
  {
   "cell_type": "markdown",
   "metadata": {},
   "source": [
    "## 3. Imputation of missing values\n",
    "\n",
    "Two of the most common forms of imputation are Univariate imputation or Multivariate imputation. The former just puts in each missing value a constant, that is computed from the feature in question,typicallly  the mean, the median or the most common value (typically for categorical attributes)\n",
    "\n",
    "Multivariate imputation in Scikit can be performed with KNN, where for each feature with missing values a model is generated using all the other available features\n",
    "\n",
    "* [Univariate imputation](https://scikit-learn.org/stable/modules/impute.html#univariate-feature-imputation)\n",
    "* [KNN Imputer](https://scikit-learn.org/stable/modules/impute.html#nearest-neighbors-imputation)\n",
    "\n",
    "### 3.1. Univariate Imputation\n"
   ]
  },
  {
   "cell_type": "code",
   "execution_count": null,
   "metadata": {},
   "outputs": [],
   "source": [
    "from sklearn.impute import SimpleImputer\n",
    "imp = SimpleImputer(missing_values=np.nan, strategy='median')\n",
    "pd.DataFrame(imp.fit_transform(X))"
   ]
  },
  {
   "cell_type": "markdown",
   "metadata": {},
   "source": [
    "### 3.2. KNN Imputation\n",
    "\n",
    "This model is able to impute based on KNN models for each of the columns with missing data"
   ]
  },
  {
   "cell_type": "code",
   "execution_count": null,
   "metadata": {},
   "outputs": [],
   "source": [
    "from sklearn.impute import KNNImputer\n",
    "imputer = KNNImputer(n_neighbors=2, weights=\"uniform\")\n",
    "pd.DataFrame(imputer.fit_transform(X))\n"
   ]
  },
  {
   "cell_type": "markdown",
   "metadata": {},
   "source": [
    "## 4. Putting it all together\n",
    "\n",
    "Now we are going to follow a Data Transformation and Classification Pipeline using KNN\n",
    "\n",
    "1. First we are going to split our data set into a training and testing set. We are just going to do simple cross validation. In a real world modeling problem, we would have to proceed accordingly\n",
    "2. Secondly we will scale our data using StandardScaler\n",
    "3. Then we will impute the missing values using Univariate Imputation with the mean.\n",
    "4. Then we will fit a KNN model with K=3\n",
    "5. Finally we will assess it's quality with the testing set\n"
   ]
  },
  {
   "cell_type": "code",
   "execution_count": null,
   "metadata": {},
   "outputs": [],
   "source": [
    "#step 1\n",
    "X_train, X_test, y_train, y_test = train_test_split(X, y, test_size=0.33, random_state=123)\n",
    "X_train.shape, X_test.shape"
   ]
  },
  {
   "cell_type": "code",
   "execution_count": null,
   "metadata": {},
   "outputs": [],
   "source": [
    "#step 2\n",
    "scaler   = StandardScaler()\n",
    "scaler.fit(X_train)\n",
    "Xt_train = scaler.transform(X_train)\n",
    "Xt_test  = scaler.transform(X_test)"
   ]
  },
  {
   "cell_type": "code",
   "execution_count": null,
   "metadata": {},
   "outputs": [],
   "source": [
    "#step 3\n",
    "imp = SimpleImputer(missing_values=np.nan, strategy='mean')\n",
    "imp.fit(Xt_train)\n",
    "Xt_train = imp.transform(Xt_train)\n",
    "Xt_test  = imp.transform(Xt_test)\n"
   ]
  },
  {
   "cell_type": "code",
   "execution_count": null,
   "metadata": {},
   "outputs": [],
   "source": [
    "#step4\n",
    "knn = KNeighborsClassifier(n_neighbors=3)\n",
    "knn.fit(Xt_train, y_train)"
   ]
  },
  {
   "cell_type": "code",
   "execution_count": null,
   "metadata": {},
   "outputs": [],
   "source": [
    "#step 5\n",
    "from sklearn.metrics import precision_score, recall_score, f1_score, matthews_corrcoef, confusion_matrix\n",
    "\n",
    "def present_class_statistics(y_test, preds):\n",
    "    print(\"The Precision is: %7.4f\" % precision_score(y_test, preds))\n",
    "    print(\"The Recall is: %7.4f\" % recall_score(y_test, preds))\n",
    "    print(\"The F1 score is: %7.4f\" % f1_score(y_test, preds))\n",
    "    print(\"The Matthews correlation coefficient is: %7.4f\" % matthews_corrcoef(y_test, preds))\n",
    "    print()\n",
    "    print(\"This is the Confusion Matrix\")\n",
    "    print(pd.DataFrame(confusion_matrix(y_test, preds)))\n",
    "\n",
    "\n",
    "preds=knn.predict(Xt_test)\n",
    "present_class_statistics(y_test, preds)"
   ]
  },
  {
   "cell_type": "markdown",
   "metadata": {},
   "source": [
    "### Exercise 5\n",
    "\n",
    "1. Construct your data processing pipeline in such a way that it is possible to change the Model, Scaler and Imputer\n",
    "2. Using the same partition identify the Scaling algorithm that is able to get the best predictions\n",
    "3. Using the same partition identify the Imputation Algorithm that produces highest classification results\n",
    "4. Using distance weights increase the classification results?\n",
    "5. What about the number of Nearest Neighbours [If you have the time]\n",
    "\n"
   ]
  },
  {
   "cell_type": "code",
   "execution_count": null,
   "metadata": {},
   "outputs": [],
   "source": [
    "# Your Solution\n",
    "\n",
    "# Suggestion: Construct runner()function so that it can run like this\n",
    "\n",
    "preds=runner(scaler, imp, knn, X_train, y_train, X_test)\n",
    "present_class_statistics(y_test, preds)"
   ]
  },
  {
   "cell_type": "code",
   "execution_count": null,
   "metadata": {},
   "outputs": [],
   "source": []
  }
 ],
 "metadata": {
  "kernelspec": {
   "display_name": "Python 3 (ipykernel)",
   "language": "python",
   "name": "python3"
  },
  "language_info": {
   "codemirror_mode": {
    "name": "ipython",
    "version": 3
   },
   "file_extension": ".py",
   "mimetype": "text/x-python",
   "name": "python",
   "nbconvert_exporter": "python",
   "pygments_lexer": "ipython3",
   "version": "3.11.9"
  }
 },
 "nbformat": 4,
 "nbformat_minor": 4
}
